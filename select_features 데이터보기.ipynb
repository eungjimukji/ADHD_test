{
 "cells": [
  {
   "cell_type": "markdown",
   "id": "b758b802-a0ed-4b54-81f4-464bfd2b7e08",
   "metadata": {},
   "source": [
    "# select features "
   ]
  },
  {
   "cell_type": "code",
   "execution_count": 1,
   "id": "e2f79b14-b050-44f0-bb70-0a60024cc1e8",
   "metadata": {},
   "outputs": [
    {
     "data": {
      "text/plain": [
       "'C:\\\\Users\\\\user\\\\AppData\\\\Local\\\\Programs\\\\Python\\\\Python313\\\\Scripts'"
      ]
     },
     "execution_count": 1,
     "metadata": {},
     "output_type": "execute_result"
    }
   ],
   "source": [
    "import pandas as pd\n",
    "import os\n",
    "\n",
    "os.getcwd()"
   ]
  },
  {
   "cell_type": "code",
   "execution_count": 11,
   "id": "1fd1a60f-b8d1-44c8-8038-f46798046be3",
   "metadata": {},
   "outputs": [
    {
     "name": "stdout",
     "output_type": "stream",
     "text": [
      "           TIMESTAMP  ACTIVITY\n",
      "0   02-20-2009 15:28         0\n",
      "1   02-20-2009 15:29       566\n",
      "2   02-20-2009 15:30       805\n",
      "3   02-20-2009 15:31       885\n",
      "4   02-20-2009 15:32       306\n",
      "5   02-20-2009 15:33       686\n",
      "6   02-20-2009 15:34       424\n",
      "7   02-20-2009 15:35       603\n",
      "8   02-20-2009 15:36       603\n",
      "9   02-20-2009 15:37       858\n",
      "10  02-20-2009 15:38      1823\n",
      "11  02-20-2009 15:39      2268\n",
      "12  02-20-2009 15:40      1560\n",
      "13  02-20-2009 15:41      2490\n",
      "14  02-20-2009 15:42      1882\n",
      "15  02-20-2009 15:43      1610\n",
      "16  02-20-2009 15:44      1070\n",
      "17  02-20-2009 15:45      1768\n",
      "18  02-20-2009 15:46      2199\n",
      "19  02-20-2009 15:47       973\n"
     ]
    }
   ],
   "source": [
    "before_file = r\"C:\\Users\\user\\AppData\\Local\\Programs\\Python\\Python313\\Scripts\\testtt\\patient_activity_03.csv.csv\"\n",
    "\n",
    "dataA = pd.read_csv(before_file, sep=';')\n",
    "print(dataA.head(20))"
   ]
  },
  {
   "cell_type": "code",
   "execution_count": 12,
   "id": "ab5cd40b-ed7c-42b2-9217-7e7b8cc06126",
   "metadata": {},
   "outputs": [
    {
     "name": "stdout",
     "output_type": "stream",
     "text": [
      "(10439, 2)\n"
     ]
    }
   ],
   "source": [
    "print(dataA.shape)"
   ]
  },
  {
   "cell_type": "code",
   "execution_count": 10,
   "id": "22b9b8a0-cd21-4dd8-a9ae-a0ea339e4713",
   "metadata": {},
   "outputs": [
    {
     "name": "stdout",
     "output_type": "stream",
     "text": [
      "   ACC__variance_larger_than_standard_deviation  ACC__has_duplicate_max  \\\n",
      "0                                           1.0                     0.0   \n",
      "\n",
      "   ACC__has_duplicate_min  ACC__has_duplicate  ACC__sum_values  \\\n",
      "0                     1.0                 1.0        5232087.0   \n",
      "\n",
      "   ACC__abs_energy  ACC__mean_abs_change  ACC__mean_change  \\\n",
      "0     6.869091e+09            251.845947               0.0   \n",
      "\n",
      "   ACC__mean_second_derivative_central  ACC__median  ...  \\\n",
      "0                            -0.049439        267.0  ...   \n",
      "\n",
      "   ACC__fourier_entropy__bins_5  ACC__fourier_entropy__bins_10  \\\n",
      "0                      0.413546                       0.682973   \n",
      "\n",
      "   ACC__fourier_entropy__bins_100  \\\n",
      "0                        2.383236   \n",
      "\n",
      "   ACC__permutation_entropy__dimension_3__tau_1  \\\n",
      "0                                      1.706009   \n",
      "\n",
      "   ACC__permutation_entropy__dimension_4__tau_1  \\\n",
      "0                                      2.948329   \n",
      "\n",
      "   ACC__permutation_entropy__dimension_5__tau_1  \\\n",
      "0                                      4.353752   \n",
      "\n",
      "   ACC__permutation_entropy__dimension_6__tau_1  \\\n",
      "0                                      5.848246   \n",
      "\n",
      "   ACC__permutation_entropy__dimension_7__tau_1  \\\n",
      "0                                      7.245228   \n",
      "\n",
      "   ACC__query_similarity_count__query_None__threshold_0.0  \\\n",
      "0                                                NaN        \n",
      "\n",
      "   ACC__mean_n_absolute_max__number_of_maxima_7  \n",
      "0                                   5458.428571  \n",
      "\n",
      "[1 rows x 783 columns]\n"
     ]
    }
   ],
   "source": [
    "after_file = r\"C:\\Users\\user\\AppData\\Local\\Programs\\Python\\Python313\\Scripts\\testtt_f\\patient_activity_03.csv_features.csv\"\n",
    "\n",
    "dataB = pd.read_csv(after_file, sep=';')\n",
    "print(dataB.head())"
   ]
  },
  {
   "cell_type": "code",
   "execution_count": 8,
   "id": "98451fad-b5ab-410d-b8dc-ebde2855fcfc",
   "metadata": {},
   "outputs": [
    {
     "name": "stdout",
     "output_type": "stream",
     "text": [
      "파일을 찾았고 열 수 있습니다.\n",
      "TIMESTAMP;ACTIVITY\n",
      "\n"
     ]
    }
   ],
   "source": [
    "file_path = r\"C:\\Users\\user\\AppData\\Local\\Programs\\Python\\Python313\\Scripts\\testtt\\patient_activity_03.csv.csv\"\n",
    "try:\n",
    "    with open(file_path, 'r') as f:\n",
    "        print(\"파일을 찾았고 열 수 있습니다.\")\n",
    "        print(f.readline()) # 첫 번째 줄 읽어보기\n",
    "except FileNotFoundError:\n",
    "    print(f\"Error: 파일을 찾을 수 없습니다: {file_path}\")\n",
    "except Exception as e:\n",
    "    print(f\"Error: 파일 접근 중 오류 발생: {e}\")\n"
   ]
  },
  {
   "cell_type": "code",
   "execution_count": null,
   "id": "f060a8bb-aa63-4c4e-ac32-e9cbe8d3300a",
   "metadata": {},
   "outputs": [],
   "source": []
  }
 ],
 "metadata": {
  "kernelspec": {
   "display_name": "Python 3 (ipykernel)",
   "language": "python",
   "name": "python3"
  },
  "language_info": {
   "codemirror_mode": {
    "name": "ipython",
    "version": 3
   },
   "file_extension": ".py",
   "mimetype": "text/x-python",
   "name": "python",
   "nbconvert_exporter": "python",
   "pygments_lexer": "ipython3",
   "version": "3.13.1"
  }
 },
 "nbformat": 4,
 "nbformat_minor": 5
}
